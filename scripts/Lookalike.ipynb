{
 "cells": [
  {
   "cell_type": "code",
   "execution_count": 40,
   "metadata": {},
   "outputs": [],
   "source": [
    "import pandas as pd"
   ]
  },
  {
   "cell_type": "code",
   "execution_count": 41,
   "metadata": {},
   "outputs": [],
   "source": [
    "# Loading the similarity DataFrame\n",
    "similarity_df = pd.read_csv(\"../output/lookalike_results.csv\", index_col=0)"
   ]
  },
  {
   "cell_type": "code",
   "execution_count": 42,
   "metadata": {},
   "outputs": [],
   "source": [
    "# Preparing a structured DataFrame for top N similar customers\n",
    "top_n = 3  # Number of lookalikes to display\n",
    "lookalike_results = []"
   ]
  },
  {
   "cell_type": "code",
   "execution_count": 43,
   "metadata": {},
   "outputs": [],
   "source": [
    "for customer_id in similarity_df.index:\n",
    "    # Getting similarity scores for this customer, sorted by highest similarity\n",
    "    scores = similarity_df.loc[customer_id].dropna().sort_values(ascending=False)\n",
    "    \n",
    "    # Excluding the customer themselves\n",
    "    scores = scores[scores.index != customer_id]\n",
    "    \n",
    "    # Extracting top N similar customers\n",
    "    top_customers = scores.head(top_n)\n",
    "    \n",
    "    # Building a row for the output DataFrame\n",
    "    row = [customer_id]\n",
    "    for similar_customer, score in top_customers.items():\n",
    "        row.append(similar_customer)\n",
    "        row.append(score)\n",
    "    \n",
    "    # Appending the row to the results\n",
    "    lookalike_results.append(row)"
   ]
  },
  {
   "cell_type": "code",
   "execution_count": 44,
   "metadata": {},
   "outputs": [
    {
     "name": "stdout",
     "output_type": "stream",
     "text": [
      "  CustomerID SimilarCustomer1  Score1 SimilarCustomer2  Score2  \\\n",
      "0      C0001            C0137     1.0            C0152     1.0   \n",
      "1      C0002            C0029     1.0            C0199     1.0   \n",
      "2      C0010            C0029     1.0            C0002     1.0   \n",
      "3      C0003            C0178     1.0            C0035     1.0   \n",
      "4      C0004            C0021     1.0            C0101     1.0   \n",
      "\n",
      "  SimilarCustomer3  Score3  \n",
      "0            C0056     1.0  \n",
      "1            C0031     1.0  \n",
      "2            C0025     1.0  \n",
      "3            C0133     1.0  \n",
      "4            C0145     1.0  \n"
     ]
    }
   ],
   "source": [
    "# Creating the final DataFrame\n",
    "columns = [\"CustomerID\"]\n",
    "for i in range(1, top_n + 1):\n",
    "    columns.extend([f\"SimilarCustomer{i}\", f\"Score{i}\"])\n",
    "\n",
    "lookalike_df = pd.DataFrame(lookalike_results, columns=columns)\n",
    "\n",
    "# Saving the refined results to a CSV file\n",
    "lookalike_df.to_csv(\"../output/refined_lookalike_results.csv\", index=False)\n",
    "\n",
    "# Displaying the top rows of the refined DataFrame\n",
    "print(lookalike_df.head())"
   ]
  }
 ],
 "metadata": {
  "kernelspec": {
   "display_name": "Python 3",
   "language": "python",
   "name": "python3"
  },
  "language_info": {
   "codemirror_mode": {
    "name": "ipython",
    "version": 3
   },
   "file_extension": ".py",
   "mimetype": "text/x-python",
   "name": "python",
   "nbconvert_exporter": "python",
   "pygments_lexer": "ipython3",
   "version": "3.12.4"
  }
 },
 "nbformat": 4,
 "nbformat_minor": 2
}
